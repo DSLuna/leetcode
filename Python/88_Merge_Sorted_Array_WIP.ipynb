{
 "cells": [
  {
   "cell_type": "markdown",
   "id": "38060557",
   "metadata": {},
   "source": [
    "https://leetcode.com/problems/merge-sorted-array/\n",
    "    \n",
    "You are given two integer arrays nums1 and nums2, sorted in non-decreasing order, and two integers m and n, representing the number of elements in nums1 and nums2 respectively.\n",
    "\n",
    "Merge nums1 and nums2 into a single array sorted in non-decreasing order.\n",
    "\n",
    "The final sorted array should not be returned by the function, but instead be stored inside the array nums1. To accommodate this, nums1 has a length of m + n, where the first m elements denote the elements that should be merged, and the last n elements are set to 0 and should be ignored. nums2 has a length of n.\n",
    "\n",
    " \n",
    "\n",
    "Example 1:\n",
    "\n",
    "Input: nums1 = [1,2,3,0,0,0], m = 3, nums2 = [2,5,6], n = 3\n",
    "    \n",
    "Output: [1,2,2,3,5,6]\n",
    "    \n",
    "Explanation: The arrays we are merging are [1,2,3] and [2,5,6].\n",
    "The result of the merge is [1,2,2,3,5,6] with the underlined elements coming from nums1."
   ]
  },
  {
   "cell_type": "code",
   "execution_count": 106,
   "id": "2a226c4d",
   "metadata": {},
   "outputs": [],
   "source": [
    "nums1 = [2,2,3,0,0,0]\n",
    "nums2 = [1,5,6]\n",
    "\n",
    "m, n = 3, 3"
   ]
  },
  {
   "cell_type": "code",
   "execution_count": 107,
   "id": "5d6373e5",
   "metadata": {},
   "outputs": [
    {
     "name": "stdout",
     "output_type": "stream",
     "text": [
      "last:  5\n",
      "m-1: 2 n-1: 2\n",
      "nums1 val:  3 nums2 val:  6\n",
      "last:  4\n",
      "m-1: 2 n-1: 1\n",
      "nums1 val:  3 nums2 val:  5\n",
      "last:  3\n",
      "m-1: 2 n-1: 0\n",
      "nums1 val:  3 nums2 val:  1\n",
      "before:  [2, 2, 3, 0, 5, 6]\n",
      "after:  [2, 2, 3, 3, 5, 6]\n",
      "last:  2\n",
      "m-1: 1 n-1: 0\n",
      "nums1 val:  2 nums2 val:  1\n",
      "before:  [2, 2, 3, 3, 5, 6]\n",
      "after:  [2, 2, 2, 3, 5, 6]\n",
      "last:  1\n",
      "m-1: 0 n-1: 0\n",
      "nums1 val:  2 nums2 val:  1\n",
      "before:  [2, 2, 2, 3, 5, 6]\n",
      "after:  [2, 2, 2, 3, 5, 6]\n",
      "last:  0\n",
      "m-1: -1 n-1: 0\n",
      "nums1 val:  6 nums2 val:  1\n",
      "before:  [2, 2, 2, 3, 5, 6]\n",
      "after:  [6, 2, 2, 3, 5, 6]\n"
     ]
    }
   ],
   "source": [
    "# The last index to track \n",
    "last = m + n - 1\n",
    "\n",
    "\n",
    "\n",
    "while m-1 >0 and n-1 >0: \n",
    "    print(\"last: \", last)\n",
    "    print(\"m-1:\", m-1, \"n-1:\", n-1 )\n",
    "    print(\"nums1 val: \", nums1[m-1], \"nums2 val: \", nums2[n-1])\n",
    "    # If the last value of nums2 is greather than the last value of nums1, then move the last value of nums2 into nums1[last]\n",
    "    if nums1[m - 1] < nums2[n - 1]:\n",
    "        nums1[last] = nums2[n - 1]\n",
    "        n -= 1\n",
    "\n",
    "    # Otherwise, move the last value of nums into nums1[last]\n",
    "    else:\n",
    "        print(\"before: \", nums1)\n",
    "        nums1[last] = nums1[m - 1]\n",
    "        print(\"after: \", nums1)\n",
    "        m -= 1      \n",
    "    last -= 1\n",
    "\n"
   ]
  },
  {
   "cell_type": "code",
   "execution_count": 104,
   "id": "da6589e8",
   "metadata": {},
   "outputs": [
    {
     "data": {
      "text/plain": [
       "[2, 2, 2, 3, 5, 6]"
      ]
     },
     "execution_count": 104,
     "metadata": {},
     "output_type": "execute_result"
    }
   ],
   "source": [
    "nums1"
   ]
  },
  {
   "cell_type": "code",
   "execution_count": null,
   "id": "42b02f47",
   "metadata": {},
   "outputs": [],
   "source": []
  }
 ],
 "metadata": {
  "kernelspec": {
   "display_name": "Python 3",
   "language": "python",
   "name": "python3"
  },
  "language_info": {
   "codemirror_mode": {
    "name": "ipython",
    "version": 3
   },
   "file_extension": ".py",
   "mimetype": "text/x-python",
   "name": "python",
   "nbconvert_exporter": "python",
   "pygments_lexer": "ipython3",
   "version": "3.8.8"
  }
 },
 "nbformat": 4,
 "nbformat_minor": 5
}
