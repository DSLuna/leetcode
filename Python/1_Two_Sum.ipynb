{
 "cells": [
  {
   "cell_type": "markdown",
   "id": "781c42d8",
   "metadata": {},
   "source": [
    "https://leetcode.com/problems/two-sum/\n",
    "\n",
    "   Given an array of integers nums and an integer target, return indices of the two numbers such that they add up to target.\n",
    "\n",
    "You may assume that each input would have exactly one solution, and you may not use the same element twice.\n",
    "\n",
    "You can return the answer in any order.\n",
    "\n",
    " \n",
    "\n",
    "Example 1:\n",
    "\n",
    "Input: nums = [2,7,11,15], target = 9\n",
    "\n",
    "Output: [0,1]\n",
    "\n",
    "Explanation: Because nums[0] + nums[1] == 9, we return [0, 1]."
   ]
  },
  {
   "cell_type": "markdown",
   "id": "48b53bb8",
   "metadata": {},
   "source": [
    "# A. Create a Dictionary from List(s)"
   ]
  },
  {
   "cell_type": "code",
   "execution_count": 16,
   "id": "aad56fb8",
   "metadata": {},
   "outputs": [
    {
     "name": "stdout",
     "output_type": "stream",
     "text": [
      "Created dictionary: {'Python': 78, 'Java': 92, 'Ruby': 34}\n"
     ]
    }
   ],
   "source": [
    "# create a dictionary using two lists\n",
    "new_lis1 = [\"Python\", \"Java\", \"Ruby\"]\n",
    "new_lis2 = [78,92,34]\n",
    "new_dict = {new_lis1[i]: new_lis2[i] for i in range(len(new_lis1))}\n",
    "print (\"Created dictionary:\",new_dict)"
   ]
  },
  {
   "cell_type": "code",
   "execution_count": 13,
   "id": "f7d13cc8",
   "metadata": {
    "scrolled": false
   },
   "outputs": [
    {
     "name": "stdout",
     "output_type": "stream",
     "text": [
      "0 2\n",
      "1 7\n",
      "2 11\n",
      "3 15\n"
     ]
    }
   ],
   "source": [
    "for k, v in enumerate(nums):\n",
    "    print(k,v)"
   ]
  },
  {
   "cell_type": "code",
   "execution_count": 45,
   "id": "07509842",
   "metadata": {
    "scrolled": true
   },
   "outputs": [
    {
     "data": {
      "text/plain": [
       "{0: 3, 1: 2, 2: 4}"
      ]
     },
     "execution_count": 45,
     "metadata": {},
     "output_type": "execute_result"
    }
   ],
   "source": [
    "# create a dictionary using one list\n",
    "nums_dict = {k: v for k, v in enumerate(nums)}\n",
    "nums_dict"
   ]
  },
  {
   "cell_type": "markdown",
   "id": "901d06fb",
   "metadata": {},
   "source": [
    "# B. Extract the corresponding key for a value in a dictionary\n",
    "## 1. Using items()"
   ]
  },
  {
   "cell_type": "code",
   "execution_count": 48,
   "id": "3e910f4b",
   "metadata": {},
   "outputs": [
    {
     "name": "stdout",
     "output_type": "stream",
     "text": [
      "2\n"
     ]
    }
   ],
   "source": [
    "val = 4\n",
    "for key, value in nums_dict.items():\n",
    "    if value==val:\n",
    "        print(key)"
   ]
  },
  {
   "cell_type": "markdown",
   "id": "97563ef3",
   "metadata": {},
   "source": [
    "## 2. Using lists "
   ]
  },
  {
   "cell_type": "code",
   "execution_count": 50,
   "id": "bd509946",
   "metadata": {},
   "outputs": [
    {
     "data": {
      "text/plain": [
       "2"
      ]
     },
     "execution_count": 50,
     "metadata": {},
     "output_type": "execute_result"
    }
   ],
   "source": [
    "key_list=list(nums_dict.keys())\n",
    "val_list=list(nums_dict.values())\n",
    "val_list.index(val)"
   ]
  },
  {
   "cell_type": "markdown",
   "id": "56eb2b60",
   "metadata": {},
   "source": [
    "# C. Solve this using the above"
   ]
  },
  {
   "cell_type": "code",
   "execution_count": 55,
   "id": "1b94b8a3",
   "metadata": {},
   "outputs": [
    {
     "name": "stdout",
     "output_type": "stream",
     "text": [
      "yes, found them!\n",
      "2 1\n"
     ]
    }
   ],
   "source": [
    "nums = [3,2,4]\n",
    "target = 6\n",
    "# Generate an empty dictionary that we will keep the seen items and their indices\n",
    "seen = {}\n",
    "\n",
    "# enumerate index and num\n",
    "for i, num in enumerate(nums):\n",
    "    # If target - num value is in the seen dictionary, then we found the pair that sum up to the target!\n",
    "    if target - num in seen.values():\n",
    "        print(\"yes, found them!\")\n",
    "        # get the index of the value\n",
    "        print(i, list(nums_dict.values()).index(target-num))\n",
    "    # If we haven't found yet, then add the num as value and index as key into the seen dictionary \n",
    "    seen[i] = num\n"
   ]
  },
  {
   "cell_type": "markdown",
   "id": "57e610bc",
   "metadata": {},
   "source": [
    "# Success\n",
    "Details \n",
    "- Runtime: 757 ms, faster than 34.77% of Python3 online submissions for Two Sum.\n",
    "- Memory Usage: 15.1 MB, less than 49.89% of Python3 online submissions for Two Sum."
   ]
  },
  {
   "cell_type": "code",
   "execution_count": 58,
   "id": "c67d4033",
   "metadata": {},
   "outputs": [
    {
     "data": {
      "text/plain": [
       "[1, 2, 3]"
      ]
     },
     "execution_count": 58,
     "metadata": {},
     "output_type": "execute_result"
    }
   ],
   "source": [
    "lst = [1,2,3,4]\n",
    "lst.remove(4)\n",
    "lst"
   ]
  },
  {
   "cell_type": "code",
   "execution_count": 98,
   "id": "9823325c",
   "metadata": {},
   "outputs": [],
   "source": [
    "def remove_even(lst):\n",
    "    # Write your code here!\n",
    "    for l in lst:\n",
    "        print(lst)\n",
    "        print(\"first l: \", l)\n",
    "        if l  %2 == 0:\n",
    "            lst.remove(l)\n",
    "    return lst"
   ]
  },
  {
   "cell_type": "code",
   "execution_count": 99,
   "id": "5a8a4d8c",
   "metadata": {},
   "outputs": [
    {
     "name": "stdout",
     "output_type": "stream",
     "text": [
      "[-2, 2, 1, 3, 4, 5]\n",
      "first l:  -2\n",
      "[2, 1, 3, 4, 5]\n",
      "first l:  1\n",
      "[2, 1, 3, 4, 5]\n",
      "first l:  3\n",
      "[2, 1, 3, 4, 5]\n",
      "first l:  4\n"
     ]
    },
    {
     "data": {
      "text/plain": [
       "[2, 1, 3, 5]"
      ]
     },
     "execution_count": 99,
     "metadata": {},
     "output_type": "execute_result"
    }
   ],
   "source": [
    "remove_even([-2,2,1,3,4,5])"
   ]
  },
  {
   "cell_type": "code",
   "execution_count": 68,
   "id": "8282d0b2",
   "metadata": {},
   "outputs": [
    {
     "data": {
      "text/plain": [
       "(0, 0, 0, 1)"
      ]
     },
     "execution_count": 68,
     "metadata": {},
     "output_type": "execute_result"
    }
   ],
   "source": [
    "-2 %2 , 2%2, 4%2, 5%2"
   ]
  },
  {
   "cell_type": "code",
   "execution_count": null,
   "id": "44b1b145",
   "metadata": {},
   "outputs": [],
   "source": []
  }
 ],
 "metadata": {
  "kernelspec": {
   "display_name": "Python 3",
   "language": "python",
   "name": "python3"
  },
  "language_info": {
   "codemirror_mode": {
    "name": "ipython",
    "version": 3
   },
   "file_extension": ".py",
   "mimetype": "text/x-python",
   "name": "python",
   "nbconvert_exporter": "python",
   "pygments_lexer": "ipython3",
   "version": "3.8.8"
  }
 },
 "nbformat": 4,
 "nbformat_minor": 5
}
