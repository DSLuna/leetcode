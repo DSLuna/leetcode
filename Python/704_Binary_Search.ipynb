{
 "cells": [
  {
   "cell_type": "markdown",
   "id": "12502bd4",
   "metadata": {},
   "source": [
    "https://leetcode.com/problems/binary-search/\n",
    "\n",
    "Given an array of integers nums which is sorted in ascending order, and an integer target, write a function to search target in nums. If target exists, then return its index. Otherwise, return -1.\n",
    "\n",
    "You must write an algorithm with O(log n) runtime complexity.\n",
    "\n",
    "\n",
    "- Example 1:\n",
    "\n",
    "Input: nums = [-1,0,3,5,9,12], target = 9\n",
    "Output: 4\n",
    "\n",
    "Explanation: 9 exists in nums and its index is 4\n",
    " "
   ]
  },
  {
   "cell_type": "markdown",
   "id": "6e08be4d",
   "metadata": {},
   "source": [
    "### Time Complexity: Why is Binary Search O(log n)?\n",
    "For example, we have a list of length 16. Then, we need to evaluate a length of 16 -> 8 -> 4 -> 2 ->1. That is how many times can we divide 16 by 2. That's the same question as log2 (16) = 4 times because 2^4  = 16.\n",
    "\n",
    "Let's generalize to a list of length n. Then, we need to evaluate log2(n) = x times "
   ]
  },
  {
   "cell_type": "code",
   "execution_count": 131,
   "id": "ee88cedf",
   "metadata": {},
   "outputs": [],
   "source": [
    "def binary_search(nums, target):\n",
    "    # left index starting from the start\n",
    "    l = 0\n",
    "    # right index starting from the end\n",
    "    r = len(nums) - 1\n",
    "    \n",
    "    # For nums whose length is less than 3\n",
    "    # Meaning, can't really divide by 2. Instead, just check if nums contains the target manually\n",
    "    if len(nums) < 3:\n",
    "        if nums[l] == target:\n",
    "            return l\n",
    "        elif nums[r] == target:\n",
    "            return r\n",
    "        else:\n",
    "            return -1\n",
    "    \n",
    "    # while the left index is less than or equal to the right index\n",
    "    while l <= r: \n",
    "        # reset out mid index to the mid value of the left index and the right index \n",
    "        m = (l+r) // 2\n",
    "\n",
    "        # if the number is less than the target\n",
    "        if nums[m] < target:\n",
    "            l = m + 1\n",
    "            \n",
    "        # if the number is greather than the target\n",
    "        elif target < nums[m]:\n",
    "            r = m -1\n",
    "        # if the number is equal to the target\n",
    "        else:\n",
    "            return m\n",
    "\n",
    "    # If we haven't found the target in nums, then return -1\n",
    "    return -1\n",
    "\n",
    "\n"
   ]
  },
  {
   "cell_type": "code",
   "execution_count": 132,
   "id": "628342c0",
   "metadata": {},
   "outputs": [
    {
     "data": {
      "text/plain": [
       "4"
      ]
     },
     "execution_count": 132,
     "metadata": {},
     "output_type": "execute_result"
    }
   ],
   "source": [
    "nums = [-1,0,3,5,9,12]\n",
    "target = 9\n",
    "\n",
    "binary_search(nums, target)"
   ]
  },
  {
   "cell_type": "code",
   "execution_count": 133,
   "id": "18b289ec",
   "metadata": {},
   "outputs": [
    {
     "data": {
      "text/plain": [
       "0"
      ]
     },
     "execution_count": 133,
     "metadata": {},
     "output_type": "execute_result"
    }
   ],
   "source": [
    "binary_search([5], 5)"
   ]
  },
  {
   "cell_type": "code",
   "execution_count": 134,
   "id": "4f45fef1",
   "metadata": {},
   "outputs": [
    {
     "data": {
      "text/plain": [
       "1"
      ]
     },
     "execution_count": 134,
     "metadata": {},
     "output_type": "execute_result"
    }
   ],
   "source": [
    "binary_search([2,5], 5)"
   ]
  },
  {
   "cell_type": "code",
   "execution_count": 135,
   "id": "c08fc138",
   "metadata": {},
   "outputs": [
    {
     "data": {
      "text/plain": [
       "2"
      ]
     },
     "execution_count": 135,
     "metadata": {},
     "output_type": "execute_result"
    }
   ],
   "source": [
    "binary_search([-1, 0,5], 5)"
   ]
  },
  {
   "cell_type": "markdown",
   "id": "3b5a30a8",
   "metadata": {},
   "source": [
    "# Success\n",
    "Details \n",
    "- Runtime: 260 ms, faster than 75.75% of Python3 online submissions for Binary Search.\n",
    "- Memory Usage: 15.5 MB, less than 23.53% of Python3 online submissions for Binary Search."
   ]
  }
 ],
 "metadata": {
  "kernelspec": {
   "display_name": "Python 3",
   "language": "python",
   "name": "python3"
  },
  "language_info": {
   "codemirror_mode": {
    "name": "ipython",
    "version": 3
   },
   "file_extension": ".py",
   "mimetype": "text/x-python",
   "name": "python",
   "nbconvert_exporter": "python",
   "pygments_lexer": "ipython3",
   "version": "3.8.8"
  }
 },
 "nbformat": 4,
 "nbformat_minor": 5
}
