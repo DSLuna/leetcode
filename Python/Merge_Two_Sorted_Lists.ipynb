{
 "cells": [
  {
   "cell_type": "markdown",
   "id": "34166060",
   "metadata": {},
   "source": [
    "- Problem Statement \n",
    "\n",
    "Implement a function that merges two sorted lists of m and n elements respectively, into another sorted list. Name it merge_lists(lst1, lst2).\n",
    "\n",
    "- Input \n",
    "Two sorted lists.\n",
    "\n",
    "- Output \n",
    "A merged and sorted list consisting of all elements of both input lists.\n",
    "\n",
    "- Sample Input \n",
    "\n",
    "list1 = [1,3,4,5]  \n",
    "list2 = [2,6,7,8]\n",
    "- Sample Output \n",
    "arr = [1,2,3,4,5,6,7,8]"
   ]
  },
  {
   "cell_type": "code",
   "execution_count": 45,
   "id": "fba03d57",
   "metadata": {},
   "outputs": [],
   "source": [
    "def merge_lists(lst1, lst2):\n",
    "    # Write your code here\n",
    "    m = len(lst1)\n",
    "    n = len(lst2)\n",
    "    arr = [None] * (m + n )\n",
    "    last = m + n - 1\n",
    "    \n",
    "    # Taking care of empty list edge cases \n",
    "    if m == 0:\n",
    "        return lst2\n",
    "    elif n == 0:\n",
    "        return lst1\n",
    "    \n",
    "    # When both lists are not empty\n",
    "    else:\n",
    "\n",
    "        while m -1 >= 0 and  n - 1 >= 0:\n",
    "            #print(\"arr: \", arr, \", m -1: \", m-1, \", n-1\", n-1)\n",
    "            if lst1[m-1] < lst2[n-1]:\n",
    "                arr[last] = lst2[n-1]\n",
    "                n -= 1\n",
    "            else:\n",
    "                arr[last] = lst1[m-1]\n",
    "                m -= 1\n",
    "            last -= 1  \n",
    "        \n",
    "        # If there are leftover in lst1\n",
    "        while m - 1 >= 0:\n",
    "            arr[last] = lst1[m-1]\n",
    "            m -= 1\n",
    "            last -= 1\n",
    "            \n",
    "        # If there are leftover in lst2\n",
    "        while n -1 >= 0:\n",
    "            arr[last] = lst2[n-1]\n",
    "            n -= 1\n",
    "            last -= 1\n",
    "\n",
    "    return arr"
   ]
  },
  {
   "cell_type": "code",
   "execution_count": 46,
   "id": "9a5d4bce",
   "metadata": {},
   "outputs": [],
   "source": [
    "lst1 = [1,3,4,5]\n",
    "lst2 = [2,6,7,8]"
   ]
  },
  {
   "cell_type": "code",
   "execution_count": 47,
   "id": "7154d7fa",
   "metadata": {},
   "outputs": [
    {
     "name": "stdout",
     "output_type": "stream",
     "text": [
      "arr:  [None, None, None, None, None, None, None, None] , m -1:  3 , n-1 3\n",
      "a\n",
      "arr:  [None, None, None, None, None, None, None, 8] , m -1:  3 , n-1 2\n",
      "a\n",
      "arr:  [None, None, None, None, None, None, 7, 8] , m -1:  3 , n-1 1\n",
      "a\n",
      "arr:  [None, None, None, None, None, 6, 7, 8] , m -1:  3 , n-1 0\n",
      "b\n",
      "arr:  [None, None, None, None, 5, 6, 7, 8] , m -1:  2 , n-1 0\n",
      "b\n",
      "arr:  [None, None, None, 4, 5, 6, 7, 8] , m -1:  1 , n-1 0\n",
      "b\n",
      "arr:  [None, None, 3, 4, 5, 6, 7, 8] , m -1:  0 , n-1 0\n",
      "a\n"
     ]
    },
    {
     "data": {
      "text/plain": [
       "[1, 2, 3, 4, 5, 6, 7, 8]"
      ]
     },
     "execution_count": 47,
     "metadata": {},
     "output_type": "execute_result"
    }
   ],
   "source": [
    "merge_lists(lst1, lst2)"
   ]
  },
  {
   "cell_type": "code",
   "execution_count": 48,
   "id": "50655275",
   "metadata": {},
   "outputs": [
    {
     "data": {
      "text/plain": [
       "[1, 2, 3, 4, 5]"
      ]
     },
     "execution_count": 48,
     "metadata": {},
     "output_type": "execute_result"
    }
   ],
   "source": [
    "merge_lists([],[1, 2, 3, 4, 5])"
   ]
  },
  {
   "cell_type": "code",
   "execution_count": 49,
   "id": "fb300ad5",
   "metadata": {},
   "outputs": [
    {
     "data": {
      "text/plain": [
       "[1, 4, 45, 63]"
      ]
     },
     "execution_count": 49,
     "metadata": {},
     "output_type": "execute_result"
    }
   ],
   "source": [
    "merge_lists([1, 4, 45, 63],[])"
   ]
  },
  {
   "cell_type": "code",
   "execution_count": 50,
   "id": "0f376be5",
   "metadata": {},
   "outputs": [
    {
     "name": "stdout",
     "output_type": "stream",
     "text": [
      "arr:  [None, None, None, None, None, None, None, None, None, None] , m -1:  6 , n-1 2\n",
      "b\n",
      "arr:  [None, None, None, None, None, None, None, None, None, 4] , m -1:  5 , n-1 2\n",
      "b\n",
      "arr:  [None, None, None, None, None, None, None, None, 4, 4] , m -1:  4 , n-1 2\n",
      "b\n",
      "arr:  [None, None, None, None, None, None, None, 4, 4, 4] , m -1:  3 , n-1 2\n",
      "b\n",
      "arr:  [None, None, None, None, None, None, 4, 4, 4, 4] , m -1:  2 , n-1 2\n",
      "b\n",
      "arr:  [None, None, None, None, None, 4, 4, 4, 4, 4] , m -1:  1 , n-1 2\n",
      "b\n",
      "arr:  [None, None, None, None, 4, 4, 4, 4, 4, 4] , m -1:  0 , n-1 2\n",
      "b\n"
     ]
    },
    {
     "data": {
      "text/plain": [
       "[4, 4, 4, 4, 4, 4, 4, 4, 4, 4]"
      ]
     },
     "execution_count": 50,
     "metadata": {},
     "output_type": "execute_result"
    }
   ],
   "source": [
    "merge_lists([4, 4, 4, 4, 4, 4, 4],[4, 4,4])"
   ]
  },
  {
   "cell_type": "code",
   "execution_count": null,
   "id": "8ae888e1",
   "metadata": {},
   "outputs": [],
   "source": []
  }
 ],
 "metadata": {
  "kernelspec": {
   "display_name": "Python 3",
   "language": "python",
   "name": "python3"
  },
  "language_info": {
   "codemirror_mode": {
    "name": "ipython",
    "version": 3
   },
   "file_extension": ".py",
   "mimetype": "text/x-python",
   "name": "python",
   "nbconvert_exporter": "python",
   "pygments_lexer": "ipython3",
   "version": "3.8.8"
  }
 },
 "nbformat": 4,
 "nbformat_minor": 5
}
