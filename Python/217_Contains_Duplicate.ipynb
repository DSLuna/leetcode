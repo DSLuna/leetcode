{
 "cells": [
  {
   "cell_type": "markdown",
   "id": "7f8340ce",
   "metadata": {},
   "source": [
    "https://leetcode.com/problems/contains-duplicate/\n",
    "    \n",
    "Given an integer array nums, return true if any value appears at least twice in the array, and return false if every element is distinct.\n",
    "\n",
    " \n",
    "\n",
    "Example 1:\n",
    "\n",
    "Input: nums = [1,2,3,1]\n",
    "Output: true"
   ]
  },
  {
   "cell_type": "code",
   "execution_count": 3,
   "id": "6d952a8d",
   "metadata": {},
   "outputs": [
    {
     "data": {
      "text/plain": [
       "({1, 2, 3}, 4)"
      ]
     },
     "execution_count": 3,
     "metadata": {},
     "output_type": "execute_result"
    }
   ],
   "source": [
    "nums1 = [1,2,3,1]\n",
    "# If there is a duplicate, then len(set(nums)) < len(nums)\n",
    "set(nums1), len(nums1)"
   ]
  },
  {
   "cell_type": "code",
   "execution_count": 6,
   "id": "a647a567",
   "metadata": {},
   "outputs": [
    {
     "data": {
      "text/plain": [
       "({2, 3, 6}, 3)"
      ]
     },
     "execution_count": 6,
     "metadata": {},
     "output_type": "execute_result"
    }
   ],
   "source": [
    "nums2 = [2,3,6]\n",
    "# If there is no duplicate, then len(set(nums)) == len(nums)\n",
    "set(nums2), len(nums2)"
   ]
  },
  {
   "cell_type": "code",
   "execution_count": 8,
   "id": "e49d714f",
   "metadata": {},
   "outputs": [],
   "source": [
    "def containsDuplicate(nums):\n",
    "    if len(set(nums)) < len(nums):\n",
    "        return True\n",
    "    return False\n"
   ]
  },
  {
   "cell_type": "code",
   "execution_count": 9,
   "id": "857659ab",
   "metadata": {},
   "outputs": [
    {
     "data": {
      "text/plain": [
       "(True, False)"
      ]
     },
     "execution_count": 9,
     "metadata": {},
     "output_type": "execute_result"
    }
   ],
   "source": [
    "containsDuplicate(nums1), containsDuplicate(nums2)"
   ]
  },
  {
   "cell_type": "markdown",
   "id": "853c418d",
   "metadata": {},
   "source": [
    "# Success\n",
    "Details \n",
    "- Runtime: 625 ms, faster than 36.78% of Python3 online submissions for Contains Duplicate.\n",
    "- Memory Usage: 26 MB, less than 72.58% of Python3 online submissions for Contains Duplicate."
   ]
  },
  {
   "cell_type": "markdown",
   "id": "806581a6",
   "metadata": {},
   "source": [
    "# Faster Solution"
   ]
  },
  {
   "cell_type": "code",
   "execution_count": 10,
   "id": "371cea38",
   "metadata": {},
   "outputs": [],
   "source": [
    "def containsDuplicate(nums):\n",
    "    dupset = set()\n",
    "    for num in nums:\n",
    "        if num in dupset:\n",
    "            return True\n",
    "        dupset.add(num)\n",
    "\n",
    "    return False\n"
   ]
  },
  {
   "cell_type": "code",
   "execution_count": 11,
   "id": "ffa2e071",
   "metadata": {},
   "outputs": [
    {
     "data": {
      "text/plain": [
       "(True, False)"
      ]
     },
     "execution_count": 11,
     "metadata": {},
     "output_type": "execute_result"
    }
   ],
   "source": [
    "containsDuplicate(nums1), containsDuplicate(nums2)"
   ]
  },
  {
   "cell_type": "markdown",
   "id": "75b3c4b6",
   "metadata": {},
   "source": [
    "# Success\n",
    "Details \n",
    "- Runtime: 455 ms, faster than 93.79% of Python3 online submissions for Contains Duplicate.\n",
    "- Memory Usage: 26.2 MB, less than 5.39% of Python3 online submissions for Contains Duplicate."
   ]
  }
 ],
 "metadata": {
  "kernelspec": {
   "display_name": "Python 3",
   "language": "python",
   "name": "python3"
  },
  "language_info": {
   "codemirror_mode": {
    "name": "ipython",
    "version": 3
   },
   "file_extension": ".py",
   "mimetype": "text/x-python",
   "name": "python",
   "nbconvert_exporter": "python",
   "pygments_lexer": "ipython3",
   "version": "3.8.8"
  }
 },
 "nbformat": 4,
 "nbformat_minor": 5
}
