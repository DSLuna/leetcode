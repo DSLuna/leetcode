{
 "cells": [
  {
   "cell_type": "markdown",
   "id": "edd992d6",
   "metadata": {},
   "source": [
    "https://leetcode.com/problems/maximum-subarray/\n",
    "\n",
    "Given an integer array nums, find the contiguous subarray (containing at least one number) which has the largest sum and return its sum.\n",
    "\n",
    "A subarray is a contiguous part of an array.\n",
    "\n",
    " \n",
    "\n",
    "Example 1:\n",
    "\n",
    "Input: nums = [-2,1,-3,4,-1,2,1,-5,4]\n",
    "Output: 6\n",
    "Explanation: [4,-1,2,1] has the largest sum = 6."
   ]
  },
  {
   "cell_type": "code",
   "execution_count": 2,
   "id": "14ca6d22",
   "metadata": {},
   "outputs": [],
   "source": [
    "nums = [-2,1,-3,4,-1,2,1,-5,4] "
   ]
  },
  {
   "cell_type": "code",
   "execution_count": 38,
   "id": "7ea3f981",
   "metadata": {
    "scrolled": true
   },
   "outputs": [
    {
     "name": "stdout",
     "output_type": "stream",
     "text": [
      "1\n",
      "nums[i]:  1  , cur_sum:  1 , max_sum:  1\n",
      "2\n",
      "nums[i]:  -3  , cur_sum:  -2 , max_sum:  1\n",
      "3\n",
      "nums[i]:  4  , cur_sum:  4 , max_sum:  4\n",
      "4\n",
      "nums[i]:  -1  , cur_sum:  3 , max_sum:  4\n",
      "5\n",
      "nums[i]:  2  , cur_sum:  5 , max_sum:  5\n",
      "6\n",
      "nums[i]:  1  , cur_sum:  6 , max_sum:  6\n",
      "7\n",
      "nums[i]:  -5  , cur_sum:  1 , max_sum:  6\n",
      "8\n",
      "nums[i]:  4  , cur_sum:  5 , max_sum:  6\n"
     ]
    }
   ],
   "source": [
    "cur_sum = nums[0]\n",
    "max_sum = nums[0]\n",
    "\n",
    "# Start from index 1 because the only subarray ending at 0th index is 0th index itself. \n",
    "# That's already taken care of by setting cur_sum and max_sum equal to nums[0]\n",
    "for i in range(1, len(nums)):\n",
    "    print(i)\n",
    "    # If the current number itself is larger than cur_sum + current number, then we set cur_sum to current number\n",
    "    # This means that we throw away preceding numbers and start the subarray from this current number \n",
    "    \n",
    "    # If not, then we set cur_sum to cur_sum + current number\n",
    "    # This means that we keep going. Need to add the current number to keep this subarray contiguous\n",
    "    cur_sum = max(nums[i], cur_sum+ nums[i])\n",
    "    \n",
    "    # We keep a track of our max_sum. \n",
    "    # If the new cur_sum is greater than max_sum, then set max_sum to cur_sum\n",
    "    # Otherwise, keep the max_sum as it is.\n",
    "    max_sum = max(cur_sum, max_sum)\n",
    "   \n",
    "    print(\"nums[i]: \", nums[i],  \" , cur_sum: \", cur_sum,  \", max_sum: \" , max_sum)"
   ]
  },
  {
   "cell_type": "code",
   "execution_count": 53,
   "id": "1e459ef6",
   "metadata": {},
   "outputs": [],
   "source": [
    "def maxSubArray(nums):\n",
    "    \"\"\" nums: a list of numbers\n",
    "    maxSubArray takes nums and return the max number that can be achived from a subarray of nums\"\"\"\n",
    "    cur_sum = nums[0]\n",
    "    max_sum = nums[0]\n",
    "\n",
    "    for i in range(1, len(nums)):\n",
    "        cur_sum = max(nums[i], cur_sum+nums[i])\n",
    "        max_sum = max(cur_sum, max_sum)\n",
    "\n",
    "    return max_sum"
   ]
  },
  {
   "cell_type": "code",
   "execution_count": 55,
   "id": "e39bbc15",
   "metadata": {},
   "outputs": [
    {
     "data": {
      "text/plain": [
       "7"
      ]
     },
     "execution_count": 55,
     "metadata": {},
     "output_type": "execute_result"
    }
   ],
   "source": [
    "maxSubArray([1,1,2,-1,4])"
   ]
  },
  {
   "cell_type": "markdown",
   "id": "db5ab60c",
   "metadata": {},
   "source": [
    "# Success\n",
    "Details \n",
    "- Runtime: 853 ms, faster than 63.07% of Python3 online submissions for Maximum Subarray.\n",
    "- Memory Usage: 27.8 MB, less than 80.15% of Python3 online submissions for Maximum Subarray."
   ]
  }
 ],
 "metadata": {
  "kernelspec": {
   "display_name": "Python 3",
   "language": "python",
   "name": "python3"
  },
  "language_info": {
   "codemirror_mode": {
    "name": "ipython",
    "version": 3
   },
   "file_extension": ".py",
   "mimetype": "text/x-python",
   "name": "python",
   "nbconvert_exporter": "python",
   "pygments_lexer": "ipython3",
   "version": "3.8.8"
  }
 },
 "nbformat": 4,
 "nbformat_minor": 5
}
